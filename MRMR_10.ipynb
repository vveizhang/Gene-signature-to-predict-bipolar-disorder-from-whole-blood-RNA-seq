{
 "cells": [
  {
   "cell_type": "code",
   "execution_count": 39,
   "metadata": {},
   "outputs": [],
   "source": [
    "import pandas as pd\n",
    "import numpy as np\n",
    "\n",
    "from mrmr import mrmr_classif\n",
    "import matplotlib.pyplot as plt\n",
    "\n",
    "from xgboost.sklearn import XGBClassifier\n",
    "from sklearn import metrics\n",
    "from sklearn.ensemble import RandomForestClassifier\n",
    "from sklearn.linear_model import SGDClassifier\n",
    "from sklearn.datasets import make_classification\n",
    "from sklearn.feature_selection import f_classif, chi2, mutual_info_classif\n",
    "from sklearn.preprocessing import MinMaxScaler\n",
    "from sklearn.model_selection import RandomizedSearchCV\n"
   ]
  },
  {
   "cell_type": "code",
   "execution_count": 2,
   "metadata": {},
   "outputs": [
    {
     "data": {
      "text/html": [
       "<div>\n",
       "<style scoped>\n",
       "    .dataframe tbody tr th:only-of-type {\n",
       "        vertical-align: middle;\n",
       "    }\n",
       "\n",
       "    .dataframe tbody tr th {\n",
       "        vertical-align: top;\n",
       "    }\n",
       "\n",
       "    .dataframe thead th {\n",
       "        text-align: right;\n",
       "    }\n",
       "</style>\n",
       "<table border=\"1\" class=\"dataframe\">\n",
       "  <thead>\n",
       "    <tr style=\"text-align: right;\">\n",
       "      <th></th>\n",
       "      <th>TAGLN2P1</th>\n",
       "      <th>SLPI</th>\n",
       "      <th>MIR23A</th>\n",
       "      <th>TRGV9</th>\n",
       "      <th>HSPA9P1</th>\n",
       "      <th>KLF2-DT</th>\n",
       "      <th>UTP14C</th>\n",
       "      <th>MIR27A</th>\n",
       "      <th>TMEM252-DT</th>\n",
       "      <th>RNU5A-1</th>\n",
       "      <th>...</th>\n",
       "      <th>MICE</th>\n",
       "      <th>OR2Q1P</th>\n",
       "      <th>OR5B15P</th>\n",
       "      <th>OR13I1P</th>\n",
       "      <th>OR8S21P</th>\n",
       "      <th>OR6R2P</th>\n",
       "      <th>tobacco</th>\n",
       "      <th>sex</th>\n",
       "      <th>age</th>\n",
       "      <th>BP_HC</th>\n",
       "    </tr>\n",
       "    <tr>\n",
       "      <th>sample</th>\n",
       "      <th></th>\n",
       "      <th></th>\n",
       "      <th></th>\n",
       "      <th></th>\n",
       "      <th></th>\n",
       "      <th></th>\n",
       "      <th></th>\n",
       "      <th></th>\n",
       "      <th></th>\n",
       "      <th></th>\n",
       "      <th></th>\n",
       "      <th></th>\n",
       "      <th></th>\n",
       "      <th></th>\n",
       "      <th></th>\n",
       "      <th></th>\n",
       "      <th></th>\n",
       "      <th></th>\n",
       "      <th></th>\n",
       "      <th></th>\n",
       "      <th></th>\n",
       "    </tr>\n",
       "  </thead>\n",
       "  <tbody>\n",
       "    <tr>\n",
       "      <th>089357B</th>\n",
       "      <td>133.436938</td>\n",
       "      <td>113.028935</td>\n",
       "      <td>17.268310</td>\n",
       "      <td>39.246158</td>\n",
       "      <td>34.536619</td>\n",
       "      <td>12.558771</td>\n",
       "      <td>191.521252</td>\n",
       "      <td>9.419078</td>\n",
       "      <td>10.988924</td>\n",
       "      <td>21.977849</td>\n",
       "      <td>...</td>\n",
       "      <td>0.0</td>\n",
       "      <td>6.279385</td>\n",
       "      <td>1.569846</td>\n",
       "      <td>1.569846</td>\n",
       "      <td>1.569846</td>\n",
       "      <td>0</td>\n",
       "      <td>0.0</td>\n",
       "      <td>F</td>\n",
       "      <td>18.97</td>\n",
       "      <td>Control</td>\n",
       "    </tr>\n",
       "    <tr>\n",
       "      <th>089366A</th>\n",
       "      <td>116.465837</td>\n",
       "      <td>27.108427</td>\n",
       "      <td>35.140554</td>\n",
       "      <td>124.497963</td>\n",
       "      <td>39.156617</td>\n",
       "      <td>13.052206</td>\n",
       "      <td>236.947737</td>\n",
       "      <td>14.056222</td>\n",
       "      <td>13.052206</td>\n",
       "      <td>5.020079</td>\n",
       "      <td>...</td>\n",
       "      <td>0.0</td>\n",
       "      <td>0.000000</td>\n",
       "      <td>1.004016</td>\n",
       "      <td>0.000000</td>\n",
       "      <td>1.004016</td>\n",
       "      <td>0</td>\n",
       "      <td>0.0</td>\n",
       "      <td>F</td>\n",
       "      <td>19.09</td>\n",
       "      <td>Control</td>\n",
       "    </tr>\n",
       "    <tr>\n",
       "      <th>089412B</th>\n",
       "      <td>149.905703</td>\n",
       "      <td>57.531378</td>\n",
       "      <td>21.878130</td>\n",
       "      <td>86.702218</td>\n",
       "      <td>41.325356</td>\n",
       "      <td>9.723613</td>\n",
       "      <td>260.106653</td>\n",
       "      <td>2.430903</td>\n",
       "      <td>4.051505</td>\n",
       "      <td>18.636925</td>\n",
       "      <td>...</td>\n",
       "      <td>0.0</td>\n",
       "      <td>0.000000</td>\n",
       "      <td>0.000000</td>\n",
       "      <td>0.000000</td>\n",
       "      <td>0.000000</td>\n",
       "      <td>0</td>\n",
       "      <td>1.0</td>\n",
       "      <td>F</td>\n",
       "      <td>23.28</td>\n",
       "      <td>Control</td>\n",
       "    </tr>\n",
       "    <tr>\n",
       "      <th>089425B</th>\n",
       "      <td>90.657305</td>\n",
       "      <td>34.387254</td>\n",
       "      <td>18.756684</td>\n",
       "      <td>51.059862</td>\n",
       "      <td>20.840760</td>\n",
       "      <td>13.546494</td>\n",
       "      <td>220.912054</td>\n",
       "      <td>4.168152</td>\n",
       "      <td>11.462418</td>\n",
       "      <td>6.252228</td>\n",
       "      <td>...</td>\n",
       "      <td>0.0</td>\n",
       "      <td>0.000000</td>\n",
       "      <td>0.000000</td>\n",
       "      <td>0.000000</td>\n",
       "      <td>0.000000</td>\n",
       "      <td>0</td>\n",
       "      <td>0.0</td>\n",
       "      <td>F</td>\n",
       "      <td>47.22</td>\n",
       "      <td>Control</td>\n",
       "    </tr>\n",
       "    <tr>\n",
       "      <th>089687A</th>\n",
       "      <td>175.309762</td>\n",
       "      <td>52.592929</td>\n",
       "      <td>15.777879</td>\n",
       "      <td>43.827441</td>\n",
       "      <td>47.333636</td>\n",
       "      <td>7.012390</td>\n",
       "      <td>261.211545</td>\n",
       "      <td>1.753098</td>\n",
       "      <td>17.530976</td>\n",
       "      <td>21.037171</td>\n",
       "      <td>...</td>\n",
       "      <td>0.0</td>\n",
       "      <td>0.000000</td>\n",
       "      <td>0.000000</td>\n",
       "      <td>1.753098</td>\n",
       "      <td>1.753098</td>\n",
       "      <td>0</td>\n",
       "      <td>0.0</td>\n",
       "      <td>F</td>\n",
       "      <td>52.37</td>\n",
       "      <td>Control</td>\n",
       "    </tr>\n",
       "  </tbody>\n",
       "</table>\n",
       "<p>5 rows × 13866 columns</p>\n",
       "</div>"
      ],
      "text/plain": [
       "           TAGLN2P1        SLPI     MIR23A       TRGV9    HSPA9P1    KLF2-DT  \\\n",
       "sample                                                                         \n",
       "089357B  133.436938  113.028935  17.268310   39.246158  34.536619  12.558771   \n",
       "089366A  116.465837   27.108427  35.140554  124.497963  39.156617  13.052206   \n",
       "089412B  149.905703   57.531378  21.878130   86.702218  41.325356   9.723613   \n",
       "089425B   90.657305   34.387254  18.756684   51.059862  20.840760  13.546494   \n",
       "089687A  175.309762   52.592929  15.777879   43.827441  47.333636   7.012390   \n",
       "\n",
       "             UTP14C     MIR27A  TMEM252-DT    RNU5A-1  ...  MICE    OR2Q1P  \\\n",
       "sample                                                 ...                   \n",
       "089357B  191.521252   9.419078   10.988924  21.977849  ...   0.0  6.279385   \n",
       "089366A  236.947737  14.056222   13.052206   5.020079  ...   0.0  0.000000   \n",
       "089412B  260.106653   2.430903    4.051505  18.636925  ...   0.0  0.000000   \n",
       "089425B  220.912054   4.168152   11.462418   6.252228  ...   0.0  0.000000   \n",
       "089687A  261.211545   1.753098   17.530976  21.037171  ...   0.0  0.000000   \n",
       "\n",
       "          OR5B15P   OR13I1P   OR8S21P  OR6R2P  tobacco  sex    age    BP_HC  \n",
       "sample                                                                       \n",
       "089357B  1.569846  1.569846  1.569846       0      0.0    F  18.97  Control  \n",
       "089366A  1.004016  0.000000  1.004016       0      0.0    F  19.09  Control  \n",
       "089412B  0.000000  0.000000  0.000000       0      1.0    F  23.28  Control  \n",
       "089425B  0.000000  0.000000  0.000000       0      0.0    F  47.22  Control  \n",
       "089687A  0.000000  1.753098  1.753098       0      0.0    F  52.37  Control  \n",
       "\n",
       "[5 rows x 13866 columns]"
      ]
     },
     "execution_count": 2,
     "metadata": {},
     "output_type": "execute_result"
    }
   ],
   "source": [
    "df = pd.read_csv(\"symbolCountsDEnorMeta.csv\")\n",
    "df = df.iloc[:,1:].set_index('sample')\n",
    "df.drop(columns='lithium', inplace=True)\n",
    "df.head()"
   ]
  },
  {
   "cell_type": "code",
   "execution_count": 3,
   "metadata": {},
   "outputs": [
    {
     "data": {
      "text/plain": [
       "(448, 13866)"
      ]
     },
     "execution_count": 3,
     "metadata": {},
     "output_type": "execute_result"
    }
   ],
   "source": [
    "df.dropna(inplace=True)\n",
    "df.shape"
   ]
  },
  {
   "cell_type": "code",
   "execution_count": 4,
   "metadata": {},
   "outputs": [
    {
     "data": {
      "text/html": [
       "<div>\n",
       "<style scoped>\n",
       "    .dataframe tbody tr th:only-of-type {\n",
       "        vertical-align: middle;\n",
       "    }\n",
       "\n",
       "    .dataframe tbody tr th {\n",
       "        vertical-align: top;\n",
       "    }\n",
       "\n",
       "    .dataframe thead th {\n",
       "        text-align: right;\n",
       "    }\n",
       "</style>\n",
       "<table border=\"1\" class=\"dataframe\">\n",
       "  <thead>\n",
       "    <tr style=\"text-align: right;\">\n",
       "      <th></th>\n",
       "      <th>TAGLN2P1</th>\n",
       "      <th>SLPI</th>\n",
       "      <th>MIR23A</th>\n",
       "      <th>TRGV9</th>\n",
       "      <th>HSPA9P1</th>\n",
       "      <th>KLF2-DT</th>\n",
       "      <th>UTP14C</th>\n",
       "      <th>MIR27A</th>\n",
       "      <th>TMEM252-DT</th>\n",
       "      <th>RNU5A-1</th>\n",
       "      <th>...</th>\n",
       "      <th>MICE</th>\n",
       "      <th>OR2Q1P</th>\n",
       "      <th>OR5B15P</th>\n",
       "      <th>OR13I1P</th>\n",
       "      <th>OR8S21P</th>\n",
       "      <th>OR6R2P</th>\n",
       "      <th>tobacco</th>\n",
       "      <th>sex</th>\n",
       "      <th>age</th>\n",
       "      <th>BP_HC</th>\n",
       "    </tr>\n",
       "    <tr>\n",
       "      <th>sample</th>\n",
       "      <th></th>\n",
       "      <th></th>\n",
       "      <th></th>\n",
       "      <th></th>\n",
       "      <th></th>\n",
       "      <th></th>\n",
       "      <th></th>\n",
       "      <th></th>\n",
       "      <th></th>\n",
       "      <th></th>\n",
       "      <th></th>\n",
       "      <th></th>\n",
       "      <th></th>\n",
       "      <th></th>\n",
       "      <th></th>\n",
       "      <th></th>\n",
       "      <th></th>\n",
       "      <th></th>\n",
       "      <th></th>\n",
       "      <th></th>\n",
       "      <th></th>\n",
       "    </tr>\n",
       "  </thead>\n",
       "  <tbody>\n",
       "    <tr>\n",
       "      <th>089357B</th>\n",
       "      <td>133.436938</td>\n",
       "      <td>113.028935</td>\n",
       "      <td>17.268310</td>\n",
       "      <td>39.246158</td>\n",
       "      <td>34.536619</td>\n",
       "      <td>12.558771</td>\n",
       "      <td>191.521252</td>\n",
       "      <td>9.419078</td>\n",
       "      <td>10.988924</td>\n",
       "      <td>21.977849</td>\n",
       "      <td>...</td>\n",
       "      <td>0.0</td>\n",
       "      <td>6.279385</td>\n",
       "      <td>1.569846</td>\n",
       "      <td>1.569846</td>\n",
       "      <td>1.569846</td>\n",
       "      <td>0</td>\n",
       "      <td>0.0</td>\n",
       "      <td>0</td>\n",
       "      <td>18.97</td>\n",
       "      <td>0</td>\n",
       "    </tr>\n",
       "    <tr>\n",
       "      <th>089366A</th>\n",
       "      <td>116.465837</td>\n",
       "      <td>27.108427</td>\n",
       "      <td>35.140554</td>\n",
       "      <td>124.497963</td>\n",
       "      <td>39.156617</td>\n",
       "      <td>13.052206</td>\n",
       "      <td>236.947737</td>\n",
       "      <td>14.056222</td>\n",
       "      <td>13.052206</td>\n",
       "      <td>5.020079</td>\n",
       "      <td>...</td>\n",
       "      <td>0.0</td>\n",
       "      <td>0.000000</td>\n",
       "      <td>1.004016</td>\n",
       "      <td>0.000000</td>\n",
       "      <td>1.004016</td>\n",
       "      <td>0</td>\n",
       "      <td>0.0</td>\n",
       "      <td>0</td>\n",
       "      <td>19.09</td>\n",
       "      <td>0</td>\n",
       "    </tr>\n",
       "    <tr>\n",
       "      <th>089412B</th>\n",
       "      <td>149.905703</td>\n",
       "      <td>57.531378</td>\n",
       "      <td>21.878130</td>\n",
       "      <td>86.702218</td>\n",
       "      <td>41.325356</td>\n",
       "      <td>9.723613</td>\n",
       "      <td>260.106653</td>\n",
       "      <td>2.430903</td>\n",
       "      <td>4.051505</td>\n",
       "      <td>18.636925</td>\n",
       "      <td>...</td>\n",
       "      <td>0.0</td>\n",
       "      <td>0.000000</td>\n",
       "      <td>0.000000</td>\n",
       "      <td>0.000000</td>\n",
       "      <td>0.000000</td>\n",
       "      <td>0</td>\n",
       "      <td>1.0</td>\n",
       "      <td>0</td>\n",
       "      <td>23.28</td>\n",
       "      <td>0</td>\n",
       "    </tr>\n",
       "    <tr>\n",
       "      <th>089425B</th>\n",
       "      <td>90.657305</td>\n",
       "      <td>34.387254</td>\n",
       "      <td>18.756684</td>\n",
       "      <td>51.059862</td>\n",
       "      <td>20.840760</td>\n",
       "      <td>13.546494</td>\n",
       "      <td>220.912054</td>\n",
       "      <td>4.168152</td>\n",
       "      <td>11.462418</td>\n",
       "      <td>6.252228</td>\n",
       "      <td>...</td>\n",
       "      <td>0.0</td>\n",
       "      <td>0.000000</td>\n",
       "      <td>0.000000</td>\n",
       "      <td>0.000000</td>\n",
       "      <td>0.000000</td>\n",
       "      <td>0</td>\n",
       "      <td>0.0</td>\n",
       "      <td>0</td>\n",
       "      <td>47.22</td>\n",
       "      <td>0</td>\n",
       "    </tr>\n",
       "    <tr>\n",
       "      <th>089687A</th>\n",
       "      <td>175.309762</td>\n",
       "      <td>52.592929</td>\n",
       "      <td>15.777879</td>\n",
       "      <td>43.827441</td>\n",
       "      <td>47.333636</td>\n",
       "      <td>7.012390</td>\n",
       "      <td>261.211545</td>\n",
       "      <td>1.753098</td>\n",
       "      <td>17.530976</td>\n",
       "      <td>21.037171</td>\n",
       "      <td>...</td>\n",
       "      <td>0.0</td>\n",
       "      <td>0.000000</td>\n",
       "      <td>0.000000</td>\n",
       "      <td>1.753098</td>\n",
       "      <td>1.753098</td>\n",
       "      <td>0</td>\n",
       "      <td>0.0</td>\n",
       "      <td>0</td>\n",
       "      <td>52.37</td>\n",
       "      <td>0</td>\n",
       "    </tr>\n",
       "  </tbody>\n",
       "</table>\n",
       "<p>5 rows × 13866 columns</p>\n",
       "</div>"
      ],
      "text/plain": [
       "           TAGLN2P1        SLPI     MIR23A       TRGV9    HSPA9P1    KLF2-DT  \\\n",
       "sample                                                                         \n",
       "089357B  133.436938  113.028935  17.268310   39.246158  34.536619  12.558771   \n",
       "089366A  116.465837   27.108427  35.140554  124.497963  39.156617  13.052206   \n",
       "089412B  149.905703   57.531378  21.878130   86.702218  41.325356   9.723613   \n",
       "089425B   90.657305   34.387254  18.756684   51.059862  20.840760  13.546494   \n",
       "089687A  175.309762   52.592929  15.777879   43.827441  47.333636   7.012390   \n",
       "\n",
       "             UTP14C     MIR27A  TMEM252-DT    RNU5A-1  ...  MICE    OR2Q1P  \\\n",
       "sample                                                 ...                   \n",
       "089357B  191.521252   9.419078   10.988924  21.977849  ...   0.0  6.279385   \n",
       "089366A  236.947737  14.056222   13.052206   5.020079  ...   0.0  0.000000   \n",
       "089412B  260.106653   2.430903    4.051505  18.636925  ...   0.0  0.000000   \n",
       "089425B  220.912054   4.168152   11.462418   6.252228  ...   0.0  0.000000   \n",
       "089687A  261.211545   1.753098   17.530976  21.037171  ...   0.0  0.000000   \n",
       "\n",
       "          OR5B15P   OR13I1P   OR8S21P  OR6R2P  tobacco  sex    age  BP_HC  \n",
       "sample                                                                     \n",
       "089357B  1.569846  1.569846  1.569846       0      0.0    0  18.97      0  \n",
       "089366A  1.004016  0.000000  1.004016       0      0.0    0  19.09      0  \n",
       "089412B  0.000000  0.000000  0.000000       0      1.0    0  23.28      0  \n",
       "089425B  0.000000  0.000000  0.000000       0      0.0    0  47.22      0  \n",
       "089687A  0.000000  1.753098  1.753098       0      0.0    0  52.37      0  \n",
       "\n",
       "[5 rows x 13866 columns]"
      ]
     },
     "execution_count": 4,
     "metadata": {},
     "output_type": "execute_result"
    }
   ],
   "source": [
    "df.shape\n",
    "df.sex = df.sex.map({'F':0,'M':1})\n",
    "df.BP_HC = df.BP_HC.map({\"Control\":0,\"BP1\":1,\"BP2\":1})\n",
    "df.head()"
   ]
  },
  {
   "cell_type": "code",
   "execution_count": 5,
   "metadata": {},
   "outputs": [
    {
     "data": {
      "text/plain": [
       "1    239\n",
       "0    209\n",
       "Name: BP_HC, dtype: int64"
      ]
     },
     "execution_count": 5,
     "metadata": {},
     "output_type": "execute_result"
    }
   ],
   "source": [
    "df.BP_HC.value_counts()"
   ]
  },
  {
   "cell_type": "code",
   "execution_count": 45,
   "metadata": {},
   "outputs": [],
   "source": [
    "X = df.iloc[:,:-1]\n",
    "y = df.iloc[:,-1]"
   ]
  },
  {
   "cell_type": "code",
   "execution_count": 46,
   "metadata": {},
   "outputs": [
    {
     "name": "stderr",
     "output_type": "stream",
     "text": [
      "100%|██████████| 10/10 [00:28<00:00,  2.89s/it]\n"
     ]
    }
   ],
   "source": [
    "from mrmr import mrmr_classif\n",
    "selected_features = mrmr_classif(X=X, y=y, K=10)"
   ]
  },
  {
   "cell_type": "code",
   "execution_count": 47,
   "metadata": {},
   "outputs": [
    {
     "data": {
      "text/plain": [
       "['TAGLN2P1',\n",
       " 'NOLC1P1',\n",
       " 'UBL5P2',\n",
       " 'tobacco',\n",
       " 'RN7SKP70',\n",
       " 'VTRNA1-1',\n",
       " 'age',\n",
       " 'TBC1D22B',\n",
       " 'MIR23A',\n",
       " 'SLPI']"
      ]
     },
     "execution_count": 47,
     "metadata": {},
     "output_type": "execute_result"
    }
   ],
   "source": [
    "selected_features"
   ]
  },
  {
   "cell_type": "code",
   "execution_count": 10,
   "metadata": {},
   "outputs": [],
   "source": [
    "model = SGDClassifier(loss=\"log\", penalty=\"l2\", random_state=42)"
   ]
  },
  {
   "cell_type": "code",
   "execution_count": 11,
   "metadata": {},
   "outputs": [],
   "source": [
    "from sklearn.model_selection import train_test_split\n",
    "X = df[selected_features]\n",
    "Y = df.iloc[:,-1]\n",
    "X_train,X_test,y_train,y_test = train_test_split(X,y,test_size= 0.2,random_state=0)"
   ]
  },
  {
   "cell_type": "code",
   "execution_count": 12,
   "metadata": {},
   "outputs": [
    {
     "data": {
      "text/plain": [
       "SGDClassifier(loss='log', random_state=42)"
      ]
     },
     "execution_count": 12,
     "metadata": {},
     "output_type": "execute_result"
    }
   ],
   "source": [
    "model.fit(X_train, y_train)"
   ]
  },
  {
   "cell_type": "code",
   "execution_count": 13,
   "metadata": {},
   "outputs": [
    {
     "name": "stdout",
     "output_type": "stream",
     "text": [
      "[[21 26]\n",
      " [ 4 39]]\n"
     ]
    }
   ],
   "source": [
    "y_pred = model.predict(X_test)\n",
    "from sklearn.metrics import confusion_matrix\n",
    "cm= confusion_matrix(y_test,y_pred)\n",
    "print(cm)"
   ]
  },
  {
   "cell_type": "code",
   "execution_count": 14,
   "metadata": {},
   "outputs": [
    {
     "data": {
      "text/plain": [
       "RandomForestClassifier(criterion='entropy', n_estimators=20)"
      ]
     },
     "execution_count": 14,
     "metadata": {},
     "output_type": "execute_result"
    }
   ],
   "source": [
    "classifier_rf=RandomForestClassifier(n_estimators=20,criterion=\"entropy\")\n",
    "classifier_rf.fit(X_train,y_train)"
   ]
  },
  {
   "cell_type": "code",
   "execution_count": 15,
   "metadata": {},
   "outputs": [
    {
     "name": "stdout",
     "output_type": "stream",
     "text": [
      "[[39  8]\n",
      " [14 29]]\n"
     ]
    }
   ],
   "source": [
    "y_pred= classifier_rf.predict(X_test)\n",
    "from sklearn.metrics import confusion_matrix\n",
    "cm= confusion_matrix(y_test,y_pred)\n",
    "print(cm)"
   ]
  },
  {
   "cell_type": "code",
   "execution_count": 16,
   "metadata": {},
   "outputs": [
    {
     "name": "stdout",
     "output_type": "stream",
     "text": [
      "{'n_estimators': [200, 400, 600, 800, 1000, 1200, 1400, 1600, 1800, 2000], 'max_depth': [10, 20, 30, 40, 50, 60, 70, 80, 90, 100, 110, None], 'bootstrap': [True, False]}\n"
     ]
    }
   ],
   "source": [
    "\n",
    "# Number of trees in random forest\n",
    "n_estimators = [int(x) for x in np.linspace(start = 200, stop = 2000, num = 10)]\n",
    "# Number of features to consider at every split\n",
    "# Maximum number of levels in tree\n",
    "max_depth = [int(x) for x in np.linspace(10, 110, num = 11)]\n",
    "max_depth.append(None)\n",
    "# Method of selecting samples for training each tree\n",
    "bootstrap = [True, False]\n",
    "# Create the random grid\n",
    "random_grid = {'n_estimators': n_estimators,\n",
    "               'max_depth': max_depth,\n",
    "               'bootstrap': bootstrap}\n",
    "print(random_grid)           "
   ]
  },
  {
   "cell_type": "code",
   "execution_count": 17,
   "metadata": {},
   "outputs": [
    {
     "name": "stdout",
     "output_type": "stream",
     "text": [
      "Fitting 3 folds for each of 100 candidates, totalling 300 fits\n"
     ]
    },
    {
     "name": "stderr",
     "output_type": "stream",
     "text": [
      "[Parallel(n_jobs=-1)]: Using backend LokyBackend with 4 concurrent workers.\n",
      "[Parallel(n_jobs=-1)]: Done  33 tasks      | elapsed:   21.6s\n",
      "[Parallel(n_jobs=-1)]: Done 154 tasks      | elapsed:  1.5min\n",
      "[Parallel(n_jobs=-1)]: Done 300 out of 300 | elapsed:  2.7min finished\n"
     ]
    },
    {
     "data": {
      "text/plain": [
       "{'n_estimators': 800, 'max_depth': 100, 'bootstrap': True}"
      ]
     },
     "execution_count": 17,
     "metadata": {},
     "output_type": "execute_result"
    }
   ],
   "source": [
    "classifier_rf=RandomForestClassifier()\n",
    "rf_random = RandomizedSearchCV(estimator = classifier_rf, param_distributions = random_grid, n_iter = 100, cv = 3, verbose=2, random_state=42, n_jobs = -1)\n",
    "# Fit the random search model\n",
    "rf_random.fit(X_train,y_train)\n",
    "rf_random.best_params_"
   ]
  },
  {
   "cell_type": "code",
   "execution_count": 18,
   "metadata": {},
   "outputs": [
    {
     "name": "stdout",
     "output_type": "stream",
     "text": [
      "[[38  9]\n",
      " [ 8 35]]\n"
     ]
    }
   ],
   "source": [
    "RF_best = RandomForestClassifier(n_estimators=800,max_depth=100,bootstrap=False)\n",
    "RF_best.fit(X_train,y_train)\n",
    "y_pred= RF_best.predict(X_test)\n",
    "from sklearn.metrics import confusion_matrix\n",
    "cm= confusion_matrix(y_test,y_pred)\n",
    "print(cm)"
   ]
  },
  {
   "cell_type": "code",
   "execution_count": 19,
   "metadata": {},
   "outputs": [
    {
     "name": "stdout",
     "output_type": "stream",
     "text": [
      "Fitting 3 folds for each of 50 candidates, totalling 150 fits\n"
     ]
    },
    {
     "name": "stderr",
     "output_type": "stream",
     "text": [
      "[Parallel(n_jobs=-1)]: Using backend LokyBackend with 4 concurrent workers.\n",
      "[Parallel(n_jobs=-1)]: Done  49 tasks      | elapsed:   16.8s\n",
      "[Parallel(n_jobs=-1)]: Done 150 out of 150 | elapsed:   55.9s finished\n"
     ]
    },
    {
     "data": {
      "text/plain": [
       "{'bootstrap': True, 'max_depth': 10, 'n_estimators': 1800}"
      ]
     },
     "execution_count": 19,
     "metadata": {},
     "output_type": "execute_result"
    }
   ],
   "source": [
    "from sklearn.model_selection import GridSearchCV\n",
    "param_grid = {\n",
    "    'bootstrap': [True, False],\n",
    "    'max_depth': [0,10, 30, 60, 100],\n",
    "    'n_estimators': [200, 500, 1000,1200,1800]\n",
    "\n",
    "}\n",
    "grid_search = GridSearchCV(estimator = classifier_rf, param_grid = param_grid,cv = 3, n_jobs = -1, verbose = 2)\n",
    "grid_search.fit(X_train,y_train)\n",
    "grid_search.best_params_"
   ]
  },
  {
   "cell_type": "code",
   "execution_count": 20,
   "metadata": {},
   "outputs": [
    {
     "name": "stdout",
     "output_type": "stream",
     "text": [
      "[[41  6]\n",
      " [ 8 35]]\n"
     ]
    }
   ],
   "source": [
    "RF_best2 = RandomForestClassifier(n_estimators=1800,max_depth=10,bootstrap=False)\n",
    "RF_best2.fit(X_train,y_train)\n",
    "y_pred= RF_best2.predict(X_test)\n",
    "from sklearn.metrics import confusion_matrix\n",
    "cm= confusion_matrix(y_test,y_pred)\n",
    "print(cm)"
   ]
  },
  {
   "cell_type": "code",
   "execution_count": 25,
   "metadata": {},
   "outputs": [],
   "source": [
    "# XGB\n",
    "estimator = XGBClassifier(\n",
    "    objective= 'binary:logistic',\n",
    "    nthread=4,\n",
    "    seed=42, eval_metric='mlogloss'\n",
    ")"
   ]
  },
  {
   "cell_type": "code",
   "execution_count": 26,
   "metadata": {},
   "outputs": [],
   "source": [
    "parameters = {\n",
    "    'max_depth': range (2, 10, 1),\n",
    "    'n_estimators': range(60, 220, 40),\n",
    "    'learning_rate': [0.1, 0.01, 0.05]\n",
    "}\n",
    "grid_search = GridSearchCV(\n",
    "    estimator=estimator,\n",
    "    param_grid=parameters,\n",
    "    scoring = 'roc_auc',\n",
    "    cv = 10,\n",
    "    verbose=True\n",
    ")"
   ]
  },
  {
   "cell_type": "code",
   "execution_count": 27,
   "metadata": {},
   "outputs": [
    {
     "name": "stdout",
     "output_type": "stream",
     "text": [
      "Fitting 10 folds for each of 96 candidates, totalling 960 fits\n"
     ]
    },
    {
     "name": "stderr",
     "output_type": "stream",
     "text": [
      "[Parallel(n_jobs=1)]: Using backend SequentialBackend with 1 concurrent workers.\n",
      "[Parallel(n_jobs=1)]: Done 960 out of 960 | elapsed:  1.3min finished\n"
     ]
    },
    {
     "data": {
      "text/plain": [
       "GridSearchCV(cv=10,\n",
       "             estimator=XGBClassifier(base_score=None, booster=None,\n",
       "                                     colsample_bylevel=None,\n",
       "                                     colsample_bynode=None,\n",
       "                                     colsample_bytree=None,\n",
       "                                     eval_metric='mlogloss', gamma=None,\n",
       "                                     gpu_id=None, importance_type='gain',\n",
       "                                     interaction_constraints=None,\n",
       "                                     learning_rate=None, max_delta_step=None,\n",
       "                                     max_depth=None, min_child_weight=None,\n",
       "                                     missing=nan, monotone_constraints=None,\n",
       "                                     n_estimators=100, n_jobs=None, nthread=4,\n",
       "                                     num_parallel_tree=None, random_state=None,\n",
       "                                     reg_alpha=None, reg_lambda=None,\n",
       "                                     scale_pos_weight=None, seed=42,\n",
       "                                     subsample=None, tree_method=None,\n",
       "                                     validate_parameters=None, verbosity=None),\n",
       "             param_grid={'learning_rate': [0.1, 0.01, 0.05],\n",
       "                         'max_depth': range(2, 10),\n",
       "                         'n_estimators': range(60, 220, 40)},\n",
       "             scoring='roc_auc', verbose=True)"
      ]
     },
     "execution_count": 27,
     "metadata": {},
     "output_type": "execute_result"
    }
   ],
   "source": [
    "grid_search.fit(X_train,y_train)"
   ]
  },
  {
   "cell_type": "code",
   "execution_count": 28,
   "metadata": {},
   "outputs": [
    {
     "data": {
      "text/plain": [
       "XGBClassifier(base_score=0.5, booster='gbtree', colsample_bylevel=1,\n",
       "              colsample_bynode=1, colsample_bytree=1, eval_metric='mlogloss',\n",
       "              gamma=0, gpu_id=-1, importance_type='gain',\n",
       "              interaction_constraints='', learning_rate=0.1, max_delta_step=0,\n",
       "              max_depth=2, min_child_weight=1, missing=nan,\n",
       "              monotone_constraints='()', n_estimators=100, n_jobs=4, nthread=4,\n",
       "              num_parallel_tree=1, random_state=42, reg_alpha=0, reg_lambda=1,\n",
       "              scale_pos_weight=1, seed=42, subsample=1, tree_method='exact',\n",
       "              validate_parameters=1, verbosity=None)"
      ]
     },
     "execution_count": 28,
     "metadata": {},
     "output_type": "execute_result"
    }
   ],
   "source": [
    "grid_search.best_estimator_"
   ]
  },
  {
   "cell_type": "code",
   "execution_count": 29,
   "metadata": {},
   "outputs": [],
   "source": [
    "XGB_best = XGBClassifier(base_score=0.5, booster='gbtree', colsample_bylevel=1,\n",
    "              colsample_bynode=1, colsample_bytree=1, eval_metric='mlogloss',\n",
    "              gamma=0, gpu_id=-1, importance_type='gain',\n",
    "              interaction_constraints='', learning_rate=0.1, max_delta_step=0,\n",
    "              max_depth=2, min_child_weight=1, \n",
    "              monotone_constraints='()', n_estimators=100, n_jobs=4, nthread=4,\n",
    "              num_parallel_tree=1, random_state=42, reg_alpha=0, reg_lambda=1,\n",
    "              scale_pos_weight=1, seed=42, subsample=1, tree_method='exact',\n",
    "              validate_parameters=1, verbosity=None)"
   ]
  },
  {
   "cell_type": "code",
   "execution_count": 30,
   "metadata": {},
   "outputs": [
    {
     "name": "stdout",
     "output_type": "stream",
     "text": [
      "[[35 12]\n",
      " [ 9 34]]\n"
     ]
    }
   ],
   "source": [
    "XGB_best.fit(X_train,y_train)\n",
    "y_pred= XGB_best.predict(X_test)\n",
    "from sklearn.metrics import confusion_matrix\n",
    "cm= confusion_matrix(y_test,y_pred)\n",
    "print(cm)"
   ]
  },
  {
   "cell_type": "code",
   "execution_count": 42,
   "metadata": {},
   "outputs": [
    {
     "name": "stdout",
     "output_type": "stream",
     "text": [
      "Fitting 5 folds for each of 18 candidates, totalling 90 fits\n",
      "[CV] C=1, gamma=1, kernel=linear .....................................\n"
     ]
    },
    {
     "name": "stderr",
     "output_type": "stream",
     "text": [
      "[Parallel(n_jobs=1)]: Using backend SequentialBackend with 1 concurrent workers.\n"
     ]
    },
    {
     "name": "stdout",
     "output_type": "stream",
     "text": [
      "[CV] ...................... C=1, gamma=1, kernel=linear, total=   0.8s\n",
      "[CV] C=1, gamma=1, kernel=linear .....................................\n"
     ]
    },
    {
     "name": "stderr",
     "output_type": "stream",
     "text": [
      "[Parallel(n_jobs=1)]: Done   1 out of   1 | elapsed:    0.7s remaining:    0.0s\n"
     ]
    },
    {
     "name": "stdout",
     "output_type": "stream",
     "text": [
      "[CV] ...................... C=1, gamma=1, kernel=linear, total=   1.9s\n",
      "[CV] C=1, gamma=1, kernel=linear .....................................\n",
      "[CV] ...................... C=1, gamma=1, kernel=linear, total=   3.1s\n",
      "[CV] C=1, gamma=1, kernel=linear .....................................\n",
      "[CV] ...................... C=1, gamma=1, kernel=linear, total=   1.1s\n",
      "[CV] C=1, gamma=1, kernel=linear .....................................\n",
      "[CV] ...................... C=1, gamma=1, kernel=linear, total=   1.5s\n",
      "[CV] C=1, gamma=1, kernel=rbf ........................................\n",
      "[CV] ......................... C=1, gamma=1, kernel=rbf, total=   0.0s\n",
      "[CV] C=1, gamma=1, kernel=rbf ........................................\n",
      "[CV] ......................... C=1, gamma=1, kernel=rbf, total=   0.0s\n",
      "[CV] C=1, gamma=1, kernel=rbf ........................................\n",
      "[CV] ......................... C=1, gamma=1, kernel=rbf, total=   0.0s\n",
      "[CV] C=1, gamma=1, kernel=rbf ........................................\n",
      "[CV] ......................... C=1, gamma=1, kernel=rbf, total=   0.0s\n",
      "[CV] C=1, gamma=1, kernel=rbf ........................................\n",
      "[CV] ......................... C=1, gamma=1, kernel=rbf, total=   0.0s\n",
      "[CV] C=1, gamma=0.1, kernel=linear ...................................\n",
      "[CV] .................... C=1, gamma=0.1, kernel=linear, total=   0.9s\n",
      "[CV] C=1, gamma=0.1, kernel=linear ...................................\n",
      "[CV] .................... C=1, gamma=0.1, kernel=linear, total=   2.0s\n",
      "[CV] C=1, gamma=0.1, kernel=linear ...................................\n",
      "[CV] .................... C=1, gamma=0.1, kernel=linear, total=   3.1s\n",
      "[CV] C=1, gamma=0.1, kernel=linear ...................................\n",
      "[CV] .................... C=1, gamma=0.1, kernel=linear, total=   1.2s\n",
      "[CV] C=1, gamma=0.1, kernel=linear ...................................\n",
      "[CV] .................... C=1, gamma=0.1, kernel=linear, total=   1.4s\n",
      "[CV] C=1, gamma=0.1, kernel=rbf ......................................\n",
      "[CV] ....................... C=1, gamma=0.1, kernel=rbf, total=   0.0s\n",
      "[CV] C=1, gamma=0.1, kernel=rbf ......................................\n",
      "[CV] ....................... C=1, gamma=0.1, kernel=rbf, total=   0.0s\n",
      "[CV] C=1, gamma=0.1, kernel=rbf ......................................\n",
      "[CV] ....................... C=1, gamma=0.1, kernel=rbf, total=   0.0s\n",
      "[CV] C=1, gamma=0.1, kernel=rbf ......................................\n",
      "[CV] ....................... C=1, gamma=0.1, kernel=rbf, total=   0.0s\n",
      "[CV] C=1, gamma=0.1, kernel=rbf ......................................\n",
      "[CV] ....................... C=1, gamma=0.1, kernel=rbf, total=   0.0s\n",
      "[CV] C=1, gamma=0.01, kernel=linear ..................................\n",
      "[CV] ................... C=1, gamma=0.01, kernel=linear, total=   0.9s\n",
      "[CV] C=1, gamma=0.01, kernel=linear ..................................\n",
      "[CV] ................... C=1, gamma=0.01, kernel=linear, total=   2.0s\n",
      "[CV] C=1, gamma=0.01, kernel=linear ..................................\n",
      "[CV] ................... C=1, gamma=0.01, kernel=linear, total=   3.2s\n",
      "[CV] C=1, gamma=0.01, kernel=linear ..................................\n",
      "[CV] ................... C=1, gamma=0.01, kernel=linear, total=   1.1s\n",
      "[CV] C=1, gamma=0.01, kernel=linear ..................................\n",
      "[CV] ................... C=1, gamma=0.01, kernel=linear, total=   1.7s\n",
      "[CV] C=1, gamma=0.01, kernel=rbf .....................................\n",
      "[CV] ...................... C=1, gamma=0.01, kernel=rbf, total=   0.0s\n",
      "[CV] C=1, gamma=0.01, kernel=rbf .....................................\n",
      "[CV] ...................... C=1, gamma=0.01, kernel=rbf, total=   0.0s\n",
      "[CV] C=1, gamma=0.01, kernel=rbf .....................................\n",
      "[CV] ...................... C=1, gamma=0.01, kernel=rbf, total=   0.0s\n",
      "[CV] C=1, gamma=0.01, kernel=rbf .....................................\n",
      "[CV] ...................... C=1, gamma=0.01, kernel=rbf, total=   0.0s\n",
      "[CV] C=1, gamma=0.01, kernel=rbf .....................................\n",
      "[CV] ...................... C=1, gamma=0.01, kernel=rbf, total=   0.0s\n",
      "[CV] C=10, gamma=1, kernel=linear ....................................\n",
      "[CV] ..................... C=10, gamma=1, kernel=linear, total=   9.2s\n",
      "[CV] C=10, gamma=1, kernel=linear ....................................\n",
      "[CV] ..................... C=10, gamma=1, kernel=linear, total=  18.5s\n",
      "[CV] C=10, gamma=1, kernel=linear ....................................\n",
      "[CV] ..................... C=10, gamma=1, kernel=linear, total=  16.9s\n",
      "[CV] C=10, gamma=1, kernel=linear ....................................\n",
      "[CV] ..................... C=10, gamma=1, kernel=linear, total=   9.4s\n",
      "[CV] C=10, gamma=1, kernel=linear ....................................\n",
      "[CV] ..................... C=10, gamma=1, kernel=linear, total=  30.0s\n",
      "[CV] C=10, gamma=1, kernel=rbf .......................................\n",
      "[CV] ........................ C=10, gamma=1, kernel=rbf, total=   0.0s\n",
      "[CV] C=10, gamma=1, kernel=rbf .......................................\n",
      "[CV] ........................ C=10, gamma=1, kernel=rbf, total=   0.0s\n",
      "[CV] C=10, gamma=1, kernel=rbf .......................................\n",
      "[CV] ........................ C=10, gamma=1, kernel=rbf, total=   0.0s\n",
      "[CV] C=10, gamma=1, kernel=rbf .......................................\n",
      "[CV] ........................ C=10, gamma=1, kernel=rbf, total=   0.0s\n",
      "[CV] C=10, gamma=1, kernel=rbf .......................................\n",
      "[CV] ........................ C=10, gamma=1, kernel=rbf, total=   0.0s\n",
      "[CV] C=10, gamma=0.1, kernel=linear ..................................\n",
      "[CV] ................... C=10, gamma=0.1, kernel=linear, total=   7.8s\n",
      "[CV] C=10, gamma=0.1, kernel=linear ..................................\n",
      "[CV] ................... C=10, gamma=0.1, kernel=linear, total=  18.3s\n",
      "[CV] C=10, gamma=0.1, kernel=linear ..................................\n",
      "[CV] ................... C=10, gamma=0.1, kernel=linear, total=  16.7s\n",
      "[CV] C=10, gamma=0.1, kernel=linear ..................................\n",
      "[CV] ................... C=10, gamma=0.1, kernel=linear, total=   9.2s\n",
      "[CV] C=10, gamma=0.1, kernel=linear ..................................\n",
      "[CV] ................... C=10, gamma=0.1, kernel=linear, total=  30.5s\n",
      "[CV] C=10, gamma=0.1, kernel=rbf .....................................\n",
      "[CV] ...................... C=10, gamma=0.1, kernel=rbf, total=   0.0s\n",
      "[CV] C=10, gamma=0.1, kernel=rbf .....................................\n",
      "[CV] ...................... C=10, gamma=0.1, kernel=rbf, total=   0.0s\n",
      "[CV] C=10, gamma=0.1, kernel=rbf .....................................\n",
      "[CV] ...................... C=10, gamma=0.1, kernel=rbf, total=   0.0s\n",
      "[CV] C=10, gamma=0.1, kernel=rbf .....................................\n",
      "[CV] ...................... C=10, gamma=0.1, kernel=rbf, total=   0.0s\n",
      "[CV] C=10, gamma=0.1, kernel=rbf .....................................\n",
      "[CV] ...................... C=10, gamma=0.1, kernel=rbf, total=   0.0s\n",
      "[CV] C=10, gamma=0.01, kernel=linear .................................\n",
      "[CV] .................. C=10, gamma=0.01, kernel=linear, total=   8.0s\n",
      "[CV] C=10, gamma=0.01, kernel=linear .................................\n",
      "[CV] .................. C=10, gamma=0.01, kernel=linear, total=  18.9s\n",
      "[CV] C=10, gamma=0.01, kernel=linear .................................\n",
      "[CV] .................. C=10, gamma=0.01, kernel=linear, total=  16.5s\n",
      "[CV] C=10, gamma=0.01, kernel=linear .................................\n",
      "[CV] .................. C=10, gamma=0.01, kernel=linear, total=   8.7s\n",
      "[CV] C=10, gamma=0.01, kernel=linear .................................\n",
      "[CV] .................. C=10, gamma=0.01, kernel=linear, total=  29.8s\n",
      "[CV] C=10, gamma=0.01, kernel=rbf ....................................\n",
      "[CV] ..................... C=10, gamma=0.01, kernel=rbf, total=   0.0s\n",
      "[CV] C=10, gamma=0.01, kernel=rbf ....................................\n",
      "[CV] ..................... C=10, gamma=0.01, kernel=rbf, total=   0.0s\n",
      "[CV] C=10, gamma=0.01, kernel=rbf ....................................\n",
      "[CV] ..................... C=10, gamma=0.01, kernel=rbf, total=   0.0s\n",
      "[CV] C=10, gamma=0.01, kernel=rbf ....................................\n",
      "[CV] ..................... C=10, gamma=0.01, kernel=rbf, total=   0.0s\n",
      "[CV] C=10, gamma=0.01, kernel=rbf ....................................\n",
      "[CV] ..................... C=10, gamma=0.01, kernel=rbf, total=   0.0s\n",
      "[CV] C=100, gamma=1, kernel=linear ...................................\n",
      "[CV] .................... C=100, gamma=1, kernel=linear, total=  36.4s\n",
      "[CV] C=100, gamma=1, kernel=linear ...................................\n",
      "[CV] .................... C=100, gamma=1, kernel=linear, total=  18.7s\n",
      "[CV] C=100, gamma=1, kernel=linear ...................................\n",
      "[CV] .................... C=100, gamma=1, kernel=linear, total=  45.1s\n",
      "[CV] C=100, gamma=1, kernel=linear ...................................\n",
      "[CV] .................... C=100, gamma=1, kernel=linear, total=  19.2s\n",
      "[CV] C=100, gamma=1, kernel=linear ...................................\n",
      "[CV] .................... C=100, gamma=1, kernel=linear, total=  28.3s\n",
      "[CV] C=100, gamma=1, kernel=rbf ......................................\n",
      "[CV] ....................... C=100, gamma=1, kernel=rbf, total=   0.0s\n",
      "[CV] C=100, gamma=1, kernel=rbf ......................................\n",
      "[CV] ....................... C=100, gamma=1, kernel=rbf, total=   0.0s\n",
      "[CV] C=100, gamma=1, kernel=rbf ......................................\n",
      "[CV] ....................... C=100, gamma=1, kernel=rbf, total=   0.0s\n",
      "[CV] C=100, gamma=1, kernel=rbf ......................................\n",
      "[CV] ....................... C=100, gamma=1, kernel=rbf, total=   0.0s\n",
      "[CV] C=100, gamma=1, kernel=rbf ......................................\n",
      "[CV] ....................... C=100, gamma=1, kernel=rbf, total=   0.0s\n",
      "[CV] C=100, gamma=0.1, kernel=linear .................................\n",
      "[CV] .................. C=100, gamma=0.1, kernel=linear, total=  36.2s\n",
      "[CV] C=100, gamma=0.1, kernel=linear .................................\n",
      "[CV] .................. C=100, gamma=0.1, kernel=linear, total=  18.8s\n",
      "[CV] C=100, gamma=0.1, kernel=linear .................................\n",
      "[CV] .................. C=100, gamma=0.1, kernel=linear, total=  47.2s\n",
      "[CV] C=100, gamma=0.1, kernel=linear .................................\n",
      "[CV] .................. C=100, gamma=0.1, kernel=linear, total=  21.7s\n",
      "[CV] C=100, gamma=0.1, kernel=linear .................................\n",
      "[CV] .................. C=100, gamma=0.1, kernel=linear, total=  29.2s\n",
      "[CV] C=100, gamma=0.1, kernel=rbf ....................................\n",
      "[CV] ..................... C=100, gamma=0.1, kernel=rbf, total=   0.0s\n",
      "[CV] C=100, gamma=0.1, kernel=rbf ....................................\n",
      "[CV] ..................... C=100, gamma=0.1, kernel=rbf, total=   0.0s\n",
      "[CV] C=100, gamma=0.1, kernel=rbf ....................................\n",
      "[CV] ..................... C=100, gamma=0.1, kernel=rbf, total=   0.0s\n",
      "[CV] C=100, gamma=0.1, kernel=rbf ....................................\n",
      "[CV] ..................... C=100, gamma=0.1, kernel=rbf, total=   0.0s\n",
      "[CV] C=100, gamma=0.1, kernel=rbf ....................................\n",
      "[CV] ..................... C=100, gamma=0.1, kernel=rbf, total=   0.0s\n",
      "[CV] C=100, gamma=0.01, kernel=linear ................................\n",
      "[CV] ................. C=100, gamma=0.01, kernel=linear, total=  35.2s\n",
      "[CV] C=100, gamma=0.01, kernel=linear ................................\n",
      "[CV] ................. C=100, gamma=0.01, kernel=linear, total=  18.3s\n",
      "[CV] C=100, gamma=0.01, kernel=linear ................................\n",
      "[CV] ................. C=100, gamma=0.01, kernel=linear, total=  44.2s\n",
      "[CV] C=100, gamma=0.01, kernel=linear ................................\n",
      "[CV] ................. C=100, gamma=0.01, kernel=linear, total=  18.9s\n",
      "[CV] C=100, gamma=0.01, kernel=linear ................................\n",
      "[CV] ................. C=100, gamma=0.01, kernel=linear, total=  27.4s\n",
      "[CV] C=100, gamma=0.01, kernel=rbf ...................................\n",
      "[CV] .................... C=100, gamma=0.01, kernel=rbf, total=   0.0s\n",
      "[CV] C=100, gamma=0.01, kernel=rbf ...................................\n",
      "[CV] .................... C=100, gamma=0.01, kernel=rbf, total=   0.0s\n",
      "[CV] C=100, gamma=0.01, kernel=rbf ...................................\n",
      "[CV] .................... C=100, gamma=0.01, kernel=rbf, total=   0.0s\n",
      "[CV] C=100, gamma=0.01, kernel=rbf ...................................\n",
      "[CV] .................... C=100, gamma=0.01, kernel=rbf, total=   0.0s\n",
      "[CV] C=100, gamma=0.01, kernel=rbf ...................................\n",
      "[CV] .................... C=100, gamma=0.01, kernel=rbf, total=   0.0s\n"
     ]
    },
    {
     "name": "stderr",
     "output_type": "stream",
     "text": [
      "[Parallel(n_jobs=1)]: Done  90 out of  90 | elapsed: 12.0min finished\n"
     ]
    },
    {
     "data": {
      "text/plain": [
       "{'C': 1, 'gamma': 1, 'kernel': 'linear'}"
      ]
     },
     "execution_count": 42,
     "metadata": {},
     "output_type": "execute_result"
    }
   ],
   "source": [
    "from sklearn.svm import SVC\n",
    "svc = SVC()\n",
    "param_grid = {'C':[1,10,100],'gamma':[1,0.1,0.01], 'kernel':['linear','rbf']}\n",
    "grid_svc = GridSearchCV(SVC(),param_grid,refit = True, verbose=2)\n",
    "grid_svc.fit(X_train,y_train)\n",
    "grid_svc.best_params_"
   ]
  },
  {
   "cell_type": "code",
   "execution_count": 43,
   "metadata": {},
   "outputs": [
    {
     "name": "stdout",
     "output_type": "stream",
     "text": [
      "[[37 10]\n",
      " [ 9 34]]\n"
     ]
    }
   ],
   "source": [
    "SVC_best = SVC(C=1, gamma=1, kernel='linear',probability=True)   \n",
    "SVC_best.fit(X_train,y_train)\n",
    "y_pred= SVC_best.predict(X_test)\n",
    "from sklearn.metrics import confusion_matrix\n",
    "cm= confusion_matrix(y_test,y_pred)\n",
    "print(cm)"
   ]
  },
  {
   "cell_type": "code",
   "execution_count": 32,
   "metadata": {},
   "outputs": [
    {
     "name": "stdout",
     "output_type": "stream",
     "text": [
      "0:\tlearn: 0.6892484\ttotal: 64ms\tremaining: 5.06s\n",
      "1:\tlearn: 0.6855325\ttotal: 71.8ms\tremaining: 2.8s\n",
      "2:\tlearn: 0.6820851\ttotal: 78.6ms\tremaining: 2.02s\n",
      "3:\tlearn: 0.6791148\ttotal: 87.3ms\tremaining: 1.66s\n",
      "4:\tlearn: 0.6754868\ttotal: 95ms\tremaining: 1.43s\n",
      "5:\tlearn: 0.6720204\ttotal: 103ms\tremaining: 1.27s\n",
      "6:\tlearn: 0.6692078\ttotal: 111ms\tremaining: 1.16s\n",
      "7:\tlearn: 0.6666077\ttotal: 119ms\tremaining: 1.07s\n",
      "8:\tlearn: 0.6626523\ttotal: 125ms\tremaining: 989ms\n",
      "9:\tlearn: 0.6596910\ttotal: 133ms\tremaining: 929ms\n",
      "10:\tlearn: 0.6564160\ttotal: 140ms\tremaining: 877ms\n",
      "11:\tlearn: 0.6534834\ttotal: 147ms\tremaining: 833ms\n",
      "12:\tlearn: 0.6502116\ttotal: 155ms\tremaining: 801ms\n",
      "13:\tlearn: 0.6459061\ttotal: 162ms\tremaining: 765ms\n",
      "14:\tlearn: 0.6430708\ttotal: 170ms\tremaining: 737ms\n",
      "15:\tlearn: 0.6399003\ttotal: 177ms\tremaining: 707ms\n",
      "16:\tlearn: 0.6370686\ttotal: 184ms\tremaining: 683ms\n",
      "17:\tlearn: 0.6340488\ttotal: 191ms\tremaining: 657ms\n",
      "18:\tlearn: 0.6307037\ttotal: 198ms\tremaining: 636ms\n",
      "19:\tlearn: 0.6278335\ttotal: 205ms\tremaining: 616ms\n",
      "20:\tlearn: 0.6242445\ttotal: 212ms\tremaining: 595ms\n",
      "21:\tlearn: 0.6216794\ttotal: 213ms\tremaining: 561ms\n",
      "22:\tlearn: 0.6186722\ttotal: 221ms\tremaining: 547ms\n",
      "23:\tlearn: 0.6157973\ttotal: 227ms\tremaining: 531ms\n",
      "24:\tlearn: 0.6126112\ttotal: 236ms\tremaining: 519ms\n",
      "25:\tlearn: 0.6102041\ttotal: 243ms\tremaining: 505ms\n",
      "26:\tlearn: 0.6071328\ttotal: 253ms\tremaining: 496ms\n",
      "27:\tlearn: 0.6043662\ttotal: 260ms\tremaining: 484ms\n",
      "28:\tlearn: 0.6016148\ttotal: 274ms\tremaining: 482ms\n",
      "29:\tlearn: 0.5988579\ttotal: 282ms\tremaining: 470ms\n",
      "30:\tlearn: 0.5962400\ttotal: 287ms\tremaining: 454ms\n",
      "31:\tlearn: 0.5938368\ttotal: 302ms\tremaining: 453ms\n",
      "32:\tlearn: 0.5911908\ttotal: 309ms\tremaining: 440ms\n",
      "33:\tlearn: 0.5884626\ttotal: 317ms\tremaining: 429ms\n",
      "34:\tlearn: 0.5859553\ttotal: 323ms\tremaining: 416ms\n",
      "35:\tlearn: 0.5832881\ttotal: 332ms\tremaining: 406ms\n",
      "36:\tlearn: 0.5808327\ttotal: 339ms\tremaining: 394ms\n",
      "37:\tlearn: 0.5784505\ttotal: 347ms\tremaining: 383ms\n",
      "38:\tlearn: 0.5758168\ttotal: 352ms\tremaining: 370ms\n",
      "39:\tlearn: 0.5729087\ttotal: 359ms\tremaining: 359ms\n",
      "40:\tlearn: 0.5705136\ttotal: 367ms\tremaining: 349ms\n",
      "41:\tlearn: 0.5683071\ttotal: 374ms\tremaining: 338ms\n",
      "42:\tlearn: 0.5658917\ttotal: 383ms\tremaining: 329ms\n",
      "43:\tlearn: 0.5634090\ttotal: 390ms\tremaining: 319ms\n",
      "44:\tlearn: 0.5616252\ttotal: 399ms\tremaining: 310ms\n",
      "45:\tlearn: 0.5593304\ttotal: 405ms\tremaining: 300ms\n",
      "46:\tlearn: 0.5562594\ttotal: 415ms\tremaining: 291ms\n",
      "47:\tlearn: 0.5543454\ttotal: 421ms\tremaining: 281ms\n",
      "48:\tlearn: 0.5520954\ttotal: 432ms\tremaining: 273ms\n",
      "49:\tlearn: 0.5500499\ttotal: 440ms\tremaining: 264ms\n",
      "50:\tlearn: 0.5477132\ttotal: 451ms\tremaining: 257ms\n",
      "51:\tlearn: 0.5446845\ttotal: 458ms\tremaining: 247ms\n",
      "52:\tlearn: 0.5426077\ttotal: 504ms\tremaining: 257ms\n",
      "53:\tlearn: 0.5405691\ttotal: 519ms\tremaining: 250ms\n",
      "54:\tlearn: 0.5384239\ttotal: 543ms\tremaining: 247ms\n",
      "55:\tlearn: 0.5363830\ttotal: 552ms\tremaining: 237ms\n",
      "56:\tlearn: 0.5339656\ttotal: 563ms\tremaining: 227ms\n",
      "57:\tlearn: 0.5317701\ttotal: 577ms\tremaining: 219ms\n",
      "58:\tlearn: 0.5298313\ttotal: 586ms\tremaining: 209ms\n",
      "59:\tlearn: 0.5277923\ttotal: 595ms\tremaining: 198ms\n",
      "60:\tlearn: 0.5258649\ttotal: 604ms\tremaining: 188ms\n",
      "61:\tlearn: 0.5233412\ttotal: 616ms\tremaining: 179ms\n",
      "62:\tlearn: 0.5215445\ttotal: 627ms\tremaining: 169ms\n",
      "63:\tlearn: 0.5197369\ttotal: 642ms\tremaining: 161ms\n",
      "64:\tlearn: 0.5178172\ttotal: 653ms\tremaining: 151ms\n",
      "65:\tlearn: 0.5156214\ttotal: 665ms\tremaining: 141ms\n",
      "66:\tlearn: 0.5139880\ttotal: 675ms\tremaining: 131ms\n",
      "67:\tlearn: 0.5123750\ttotal: 683ms\tremaining: 121ms\n",
      "68:\tlearn: 0.5102215\ttotal: 691ms\tremaining: 110ms\n",
      "69:\tlearn: 0.5079713\ttotal: 699ms\tremaining: 99.9ms\n",
      "70:\tlearn: 0.5060895\ttotal: 708ms\tremaining: 89.7ms\n",
      "71:\tlearn: 0.5042581\ttotal: 714ms\tremaining: 79.4ms\n",
      "72:\tlearn: 0.5023395\ttotal: 723ms\tremaining: 69.3ms\n",
      "73:\tlearn: 0.5001302\ttotal: 730ms\tremaining: 59.2ms\n",
      "74:\tlearn: 0.4983798\ttotal: 736ms\tremaining: 49.1ms\n",
      "75:\tlearn: 0.4964356\ttotal: 743ms\tremaining: 39.1ms\n",
      "76:\tlearn: 0.4950061\ttotal: 750ms\tremaining: 29.2ms\n",
      "77:\tlearn: 0.4935017\ttotal: 758ms\tremaining: 19.4ms\n",
      "78:\tlearn: 0.4919299\ttotal: 765ms\tremaining: 9.68ms\n",
      "79:\tlearn: 0.4902303\ttotal: 772ms\tremaining: 0us\n"
     ]
    },
    {
     "data": {
      "text/plain": [
       "GridSearchCV(cv=4,\n",
       "             estimator=<catboost.core.CatBoostClassifier object at 0x000002C308C602B0>,\n",
       "             n_jobs=-1,\n",
       "             param_grid={'depth': [4, 5, 6, 7, 8, 9, 10],\n",
       "                         'iterations': [10, 20, 30, 40, 50, 60, 70, 80, 90,\n",
       "                                        100],\n",
       "                         'learning_rate': [0.01, 0.02, 0.03, 0.04]})"
      ]
     },
     "execution_count": 32,
     "metadata": {},
     "output_type": "execute_result"
    }
   ],
   "source": [
    "from catboost import CatBoostClassifier\n",
    "CBC = CatBoostClassifier()\n",
    "parameters = {'depth' : [4,5,6,7,8,9, 10],\n",
    "                 'learning_rate' : [0.01,0.02,0.03,0.04],\n",
    "                  'iterations'    : [10, 20,30,40,50,60,70,80,90, 100]\n",
    "                 }\n",
    "Grid_CBC = GridSearchCV(estimator=CBC, param_grid = parameters, cv = 4, n_jobs=-1)\n",
    "Grid_CBC.fit(X_train, y_train)                "
   ]
  },
  {
   "cell_type": "code",
   "execution_count": 33,
   "metadata": {},
   "outputs": [
    {
     "data": {
      "text/plain": [
       "{'depth': 8, 'iterations': 80, 'learning_rate': 0.03}"
      ]
     },
     "execution_count": 33,
     "metadata": {},
     "output_type": "execute_result"
    }
   ],
   "source": [
    "Grid_CBC.best_params_"
   ]
  },
  {
   "cell_type": "code",
   "execution_count": 34,
   "metadata": {},
   "outputs": [
    {
     "name": "stdout",
     "output_type": "stream",
     "text": [
      "0:\tlearn: 0.6892484\ttotal: 7.56ms\tremaining: 597ms\n",
      "1:\tlearn: 0.6855325\ttotal: 16.1ms\tremaining: 628ms\n",
      "2:\tlearn: 0.6820851\ttotal: 33.9ms\tremaining: 871ms\n",
      "3:\tlearn: 0.6791148\ttotal: 50.5ms\tremaining: 960ms\n",
      "4:\tlearn: 0.6754868\ttotal: 58.9ms\tremaining: 884ms\n",
      "5:\tlearn: 0.6720204\ttotal: 69.6ms\tremaining: 858ms\n",
      "6:\tlearn: 0.6692078\ttotal: 76.2ms\tremaining: 794ms\n",
      "7:\tlearn: 0.6666077\ttotal: 84.3ms\tremaining: 759ms\n",
      "8:\tlearn: 0.6626523\ttotal: 91ms\tremaining: 718ms\n",
      "9:\tlearn: 0.6596910\ttotal: 98.5ms\tremaining: 690ms\n",
      "10:\tlearn: 0.6564160\ttotal: 106ms\tremaining: 663ms\n",
      "11:\tlearn: 0.6534834\ttotal: 112ms\tremaining: 632ms\n",
      "12:\tlearn: 0.6502116\ttotal: 119ms\tremaining: 611ms\n",
      "13:\tlearn: 0.6459061\ttotal: 124ms\tremaining: 584ms\n",
      "14:\tlearn: 0.6430708\ttotal: 131ms\tremaining: 567ms\n",
      "15:\tlearn: 0.6399003\ttotal: 136ms\tremaining: 545ms\n",
      "16:\tlearn: 0.6370686\ttotal: 141ms\tremaining: 524ms\n",
      "17:\tlearn: 0.6340488\ttotal: 149ms\tremaining: 514ms\n",
      "18:\tlearn: 0.6307037\ttotal: 155ms\tremaining: 497ms\n",
      "19:\tlearn: 0.6278335\ttotal: 161ms\tremaining: 484ms\n",
      "20:\tlearn: 0.6242445\ttotal: 166ms\tremaining: 467ms\n",
      "21:\tlearn: 0.6216794\ttotal: 167ms\tremaining: 441ms\n",
      "22:\tlearn: 0.6186722\ttotal: 172ms\tremaining: 427ms\n",
      "23:\tlearn: 0.6157973\ttotal: 179ms\tremaining: 419ms\n",
      "24:\tlearn: 0.6126112\ttotal: 186ms\tremaining: 409ms\n",
      "25:\tlearn: 0.6102041\ttotal: 193ms\tremaining: 400ms\n",
      "26:\tlearn: 0.6071328\ttotal: 200ms\tremaining: 393ms\n",
      "27:\tlearn: 0.6043662\ttotal: 208ms\tremaining: 386ms\n",
      "28:\tlearn: 0.6016148\ttotal: 216ms\tremaining: 380ms\n",
      "29:\tlearn: 0.5988579\ttotal: 222ms\tremaining: 369ms\n",
      "30:\tlearn: 0.5962400\ttotal: 226ms\tremaining: 356ms\n",
      "31:\tlearn: 0.5938368\ttotal: 234ms\tremaining: 351ms\n",
      "32:\tlearn: 0.5911908\ttotal: 240ms\tremaining: 341ms\n",
      "33:\tlearn: 0.5884626\ttotal: 248ms\tremaining: 336ms\n",
      "34:\tlearn: 0.5859553\ttotal: 256ms\tremaining: 329ms\n",
      "35:\tlearn: 0.5832881\ttotal: 264ms\tremaining: 322ms\n",
      "36:\tlearn: 0.5808327\ttotal: 270ms\tremaining: 314ms\n",
      "37:\tlearn: 0.5784505\ttotal: 276ms\tremaining: 306ms\n",
      "38:\tlearn: 0.5758168\ttotal: 279ms\tremaining: 294ms\n",
      "39:\tlearn: 0.5729087\ttotal: 285ms\tremaining: 285ms\n",
      "40:\tlearn: 0.5705136\ttotal: 293ms\tremaining: 278ms\n",
      "41:\tlearn: 0.5683071\ttotal: 298ms\tremaining: 270ms\n",
      "42:\tlearn: 0.5658917\ttotal: 305ms\tremaining: 262ms\n",
      "43:\tlearn: 0.5634090\ttotal: 310ms\tremaining: 254ms\n",
      "44:\tlearn: 0.5616252\ttotal: 315ms\tremaining: 245ms\n",
      "45:\tlearn: 0.5593304\ttotal: 321ms\tremaining: 237ms\n",
      "46:\tlearn: 0.5562594\ttotal: 327ms\tremaining: 229ms\n",
      "47:\tlearn: 0.5543454\ttotal: 332ms\tremaining: 221ms\n",
      "48:\tlearn: 0.5520954\ttotal: 338ms\tremaining: 214ms\n",
      "49:\tlearn: 0.5500499\ttotal: 345ms\tremaining: 207ms\n",
      "50:\tlearn: 0.5477132\ttotal: 350ms\tremaining: 199ms\n",
      "51:\tlearn: 0.5446845\ttotal: 356ms\tremaining: 192ms\n",
      "52:\tlearn: 0.5426077\ttotal: 363ms\tremaining: 185ms\n",
      "53:\tlearn: 0.5405691\ttotal: 368ms\tremaining: 177ms\n",
      "54:\tlearn: 0.5384239\ttotal: 374ms\tremaining: 170ms\n",
      "55:\tlearn: 0.5363830\ttotal: 380ms\tremaining: 163ms\n",
      "56:\tlearn: 0.5339656\ttotal: 387ms\tremaining: 156ms\n",
      "57:\tlearn: 0.5317701\ttotal: 395ms\tremaining: 150ms\n",
      "58:\tlearn: 0.5298313\ttotal: 400ms\tremaining: 143ms\n",
      "59:\tlearn: 0.5277923\ttotal: 409ms\tremaining: 136ms\n",
      "60:\tlearn: 0.5258649\ttotal: 414ms\tremaining: 129ms\n",
      "61:\tlearn: 0.5233412\ttotal: 422ms\tremaining: 123ms\n",
      "62:\tlearn: 0.5215445\ttotal: 427ms\tremaining: 115ms\n",
      "63:\tlearn: 0.5197369\ttotal: 433ms\tremaining: 108ms\n",
      "64:\tlearn: 0.5178172\ttotal: 439ms\tremaining: 101ms\n",
      "65:\tlearn: 0.5156214\ttotal: 445ms\tremaining: 94.3ms\n",
      "66:\tlearn: 0.5139880\ttotal: 451ms\tremaining: 87.5ms\n",
      "67:\tlearn: 0.5123750\ttotal: 456ms\tremaining: 80.5ms\n",
      "68:\tlearn: 0.5102215\ttotal: 462ms\tremaining: 73.6ms\n",
      "69:\tlearn: 0.5079713\ttotal: 469ms\tremaining: 67ms\n",
      "70:\tlearn: 0.5060895\ttotal: 474ms\tremaining: 60.1ms\n",
      "71:\tlearn: 0.5042581\ttotal: 479ms\tremaining: 53.3ms\n",
      "72:\tlearn: 0.5023395\ttotal: 486ms\tremaining: 46.6ms\n",
      "73:\tlearn: 0.5001302\ttotal: 491ms\tremaining: 39.8ms\n",
      "74:\tlearn: 0.4983798\ttotal: 496ms\tremaining: 33.1ms\n",
      "75:\tlearn: 0.4964356\ttotal: 502ms\tremaining: 26.4ms\n",
      "76:\tlearn: 0.4950061\ttotal: 508ms\tremaining: 19.8ms\n",
      "77:\tlearn: 0.4935017\ttotal: 513ms\tremaining: 13.2ms\n",
      "78:\tlearn: 0.4919299\ttotal: 519ms\tremaining: 6.57ms\n",
      "79:\tlearn: 0.4902303\ttotal: 524ms\tremaining: 0us\n",
      "[[37 10]\n",
      " [ 9 34]]\n"
     ]
    }
   ],
   "source": [
    "CBC_best= CatBoostClassifier(depth=8, iterations=80, learning_rate=0.03) \n",
    "CBC_best.fit(X_train,y_train)\n",
    "y_pred= CBC_best.predict(X_test)\n",
    "from sklearn.metrics import confusion_matrix\n",
    "cm= confusion_matrix(y_test,y_pred)\n",
    "print(cm)"
   ]
  },
  {
   "cell_type": "code",
   "execution_count": 35,
   "metadata": {},
   "outputs": [
    {
     "name": "stdout",
     "output_type": "stream",
     "text": [
      "[LightGBM] [Warning] Unknown parameter: depth\n",
      "[LightGBM] [Warning] Unknown parameter: iterations\n"
     ]
    },
    {
     "data": {
      "text/plain": [
       "GridSearchCV(cv=4, estimator=LGBMClassifier(), n_jobs=-1,\n",
       "             param_grid={'depth': [4, 5, 6, 7, 8, 9, 10],\n",
       "                         'iterations': [10, 20, 30, 40, 50, 60, 70, 80, 90,\n",
       "                                        100],\n",
       "                         'learning_rate': [0.01, 0.02, 0.03, 0.04]})"
      ]
     },
     "execution_count": 35,
     "metadata": {},
     "output_type": "execute_result"
    }
   ],
   "source": [
    "import lightgbm as lgb\n",
    "LGB = lgb.LGBMClassifier()\n",
    "param_grid = {\n",
    "    'n_estimators': [400, 700, 1000],\n",
    "    'colsample_bytree': [0.7, 0.8],\n",
    "    'max_depth': [15,20,25],\n",
    "    'num_leaves': [50, 100, 200],\n",
    "    'reg_alpha': [1.1, 1.2, 1.3],\n",
    "    'reg_lambda': [1.1, 1.2, 1.3],\n",
    "    'min_split_gain': [0.3, 0.4],\n",
    "    'subsample': [0.7, 0.8, 0.9],\n",
    "    'subsample_freq': [20]\n",
    "}\n",
    "Grid_LGB = GridSearchCV(estimator=LGB, param_grid = parameters, cv = 4, n_jobs=-1)\n",
    "Grid_LGB.fit(X_train, y_train)       "
   ]
  },
  {
   "cell_type": "code",
   "execution_count": 36,
   "metadata": {},
   "outputs": [
    {
     "data": {
      "text/plain": [
       "{'depth': 4, 'iterations': 10, 'learning_rate': 0.03}"
      ]
     },
     "execution_count": 36,
     "metadata": {},
     "output_type": "execute_result"
    }
   ],
   "source": [
    "Grid_LGB.best_params_"
   ]
  },
  {
   "cell_type": "code",
   "execution_count": 37,
   "metadata": {},
   "outputs": [
    {
     "name": "stdout",
     "output_type": "stream",
     "text": [
      "[[35 12]\n",
      " [ 8 35]]\n"
     ]
    }
   ],
   "source": [
    "LGB_best = lgb.LGBMClassifier(depth=4, iterations=10, learning_rate=0.03)\n",
    "LGB_best.fit(X_train,y_train)\n",
    "y_pred= LGB_best.predict(X_test)\n",
    "from sklearn.metrics import confusion_matrix\n",
    "cm= confusion_matrix(y_test,y_pred)\n",
    "print(cm)"
   ]
  },
  {
   "cell_type": "code",
   "execution_count": 44,
   "metadata": {},
   "outputs": [
    {
     "data": {
      "text/plain": [
       "<matplotlib.legend.Legend at 0x2c316bc7fd0>"
      ]
     },
     "execution_count": 44,
     "metadata": {},
     "output_type": "execute_result"
    },
    {
     "data": {
      "image/png": "[encoded data removed]",
      "text/plain": [
       "<Figure size 1296x864 with 1 Axes>"
      ]
     },
     "metadata": {
      "needs_background": "light"
     },
     "output_type": "display_data"
    }
   ],
   "source": [
    "#set up plotting area\n",
    "plt.rcParams[\"figure.figsize\"] = (18,12)\n",
    "plt.figure(0).clf()\n",
    "\n",
    "y_pred = SVC_best.predict_proba(X_test)[:, 1]\n",
    "fpr, tpr, _ = metrics.roc_curve(y_test, y_pred)\n",
    "auc = round(metrics.roc_auc_score(y_test, y_pred), 4)\n",
    "plt.plot(fpr,tpr,label=\"SVM, AUC=\"+str(auc))\n",
    "\n",
    "y_pred = LGB_best.predict_proba(X_test)[:, 1]\n",
    "fpr, tpr, _ = metrics.roc_curve(y_test, y_pred)\n",
    "auc = round(metrics.roc_auc_score(y_test, y_pred), 4)\n",
    "plt.plot(fpr,tpr,label=\"LightGBM, AUC=\"+str(auc))\n",
    "\n",
    "y_pred = CBC_best.predict_proba(X_test)[:, 1]\n",
    "fpr, tpr, _ = metrics.roc_curve(y_test, y_pred)\n",
    "auc = round(metrics.roc_auc_score(y_test, y_pred), 4)\n",
    "plt.plot(fpr,tpr,label=\"Catboost, AUC=\"+str(auc))\n",
    "\n",
    "y_pred = RF_best.predict_proba(X_test)[:, 1]\n",
    "fpr, tpr, _ = metrics.roc_curve(y_test, y_pred)\n",
    "auc = round(metrics.roc_auc_score(y_test, y_pred), 4)\n",
    "plt.plot(fpr,tpr,label=\"Random Forest, AUC=\"+str(auc))\n",
    "\n",
    "y_pred = XGB_best.predict_proba(X_test)[:, 1]\n",
    "fpr, tpr, _ = metrics.roc_curve(y_test, y_pred)\n",
    "auc = round(metrics.roc_auc_score(y_test, y_pred), 4)\n",
    "plt.plot(fpr,tpr,label=\"Gradient Boosting, AUC=\"+str(auc))\n",
    "\n",
    "y_pred = RF_best2.predict_proba(X_test)[:, 1]\n",
    "fpr, tpr, _ = metrics.roc_curve(y_test, y_pred)\n",
    "auc = round(metrics.roc_auc_score(y_test, y_pred), 4)\n",
    "plt.plot(fpr,tpr,label=\"Random Forest2, AUC=\"+str(auc))\n",
    "\n",
    "#add legend\n",
    "plt.xlabel(\"False Positive Rate\")\n",
    "plt.ylabel(\"True Positive Rate\")\n",
    "plt.legend()"
   ]
  }
 ],
 "metadata": {
  "kernelspec": {
   "display_name": "Python 3.6.13 ('base')",
   "language": "python",
   "name": "python3"
  },
  "language_info": {
   "codemirror_mode": {
    "name": "ipython",
    "version": 3
   },
   "file_extension": ".py",
   "mimetype": "text/x-python",
   "name": "python",
   "nbconvert_exporter": "python",
   "pygments_lexer": "ipython3",
   "version": "3.6.13"
  },
  "orig_nbformat": 4,
  "vscode": {
   "interpreter": {
    "hash": "01ea21ff6a4f3074a68e71f39f127958401068994ac911c4fa7f15f5a28521f3"
   }
  }
 },
 "nbformat": 4,
 "nbformat_minor": 2
}
